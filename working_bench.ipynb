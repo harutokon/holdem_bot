{
 "cells": [
  {
   "cell_type": "code",
   "execution_count": 1,
   "metadata": {},
   "outputs": [],
   "source": [
    "import pandas as pd\n",
    "import numpy as np"
   ]
  },
  {
   "cell_type": "code",
   "execution_count": 2,
   "metadata": {},
   "outputs": [],
   "source": [
    "num_players = 5\n",
    "deck_df = pd.read_csv('deck.csv')\n",
    "hand_rankings_df = pd.read_csv('poker_hand_rankings.csv')\n",
    "card_rankings_df = pd.read_csv('card_rankings.csv')\n",
    "# Initialize empty dictionary to store player hands\n",
    "player_hands = {i: [] for i in range(num_players)}\n",
    "# Initialize empty dictionary to store table cards (5 slots)\n",
    "table_cards = {i: [] for i in range(5)}\n",
    "\n"
   ]
  },
  {
   "cell_type": "code",
   "execution_count": 3,
   "metadata": {},
   "outputs": [
    {
     "data": {
      "text/plain": [
       "{0: [], 1: [], 2: [], 3: [], 4: []}"
      ]
     },
     "execution_count": 3,
     "metadata": {},
     "output_type": "execute_result"
    }
   ],
   "source": [
    "table_cards"
   ]
  },
  {
   "cell_type": "code",
   "execution_count": 4,
   "metadata": {},
   "outputs": [
    {
     "data": {
      "text/plain": [
       "{0: [], 1: [], 2: [], 3: [], 4: []}"
      ]
     },
     "execution_count": 4,
     "metadata": {},
     "output_type": "execute_result"
    }
   ],
   "source": [
    "player_hands"
   ]
  },
  {
   "cell_type": "code",
   "execution_count": 5,
   "metadata": {},
   "outputs": [],
   "source": [
    "def deck_shuffler(deck_df):\n",
    "    shuffled_df = deck_df.copy()\n",
    "    shuffled_df = shuffled_df.iloc[np.random.permutation(len(shuffled_df))]\n",
    "    return shuffled_df\n",
    "\n",
    "def initial_deal(shuffled_df, player_hands):\n",
    "    # Deal 2 cards to each player\n",
    "    for card_num in range(2):  # Deal 2 rounds\n",
    "        for player in player_hands.keys():  # Deal to each player\n",
    "            # Get the next card (first row of shuffled deck)\n",
    "            card = shuffled_df.iloc[player + (card_num * len(player_hands))]\n",
    "            # Add card to player's hand as [suit, rank] list\n",
    "            player_hands[player].append([card['suit'], card['rank']])\n",
    "    \n",
    "    # Remove dealt cards from the deck (2 cards * number of players)\n",
    "    remaining_deck = shuffled_df.iloc[2 * len(player_hands):].reset_index(drop=True)\n",
    "    \n",
    "    return player_hands, remaining_deck\n",
    "\n",
    "\n",
    "def burn_card(remaining_deck):\n",
    "    # Burn one card from the remaining deck\n",
    "    burned_card = remaining_deck.iloc[0]\n",
    "    remaining_deck = remaining_deck.iloc[1:].reset_index(drop=True)\n",
    "    return remaining_deck\n",
    "\n",
    "def deal_flop(remaining_deck, table_cards):\n",
    "    # Deal 3 cards to the table\n",
    "    for i in range(3):\n",
    "        card = remaining_deck.iloc[0]\n",
    "        # Add card to table as [suit, rank] list, similar to player hands\n",
    "        table_cards[i] = [card['suit'], card['rank']]\n",
    "        remaining_deck = remaining_deck.iloc[1:].reset_index(drop=True)\n",
    "    return table_cards, remaining_deck\n",
    "\n",
    "def deal_turn(remaining_deck, table_cards):\n",
    "    # Deal 1 card to the table in position 3\n",
    "    card = remaining_deck.iloc[0]\n",
    "    # Add card to table as [suit, rank] list\n",
    "    table_cards[3] = [card['suit'], card['rank']]\n",
    "    remaining_deck = remaining_deck.iloc[1:].reset_index(drop=True)\n",
    "    return table_cards, remaining_deck\n",
    "\n",
    "def deal_river(remaining_deck, table_cards):\n",
    "    # Deal 1 card to the table in position 4\n",
    "    card = remaining_deck.iloc[0]\n",
    "    # Add card to table as [suit, rank] list\n",
    "    table_cards[4] = [card['suit'], card['rank']]\n",
    "    remaining_deck = remaining_deck.iloc[1:].reset_index(drop=True)\n",
    "    return table_cards, remaining_deck\n",
    "\n",
    "def assemble_hand(player_hands, table_cards):\n",
    "    # Dictionary to store combined hands for each player\n",
    "    combined_hands = {}\n",
    "    \n",
    "    # For each player, combine their hole cards with the table cards\n",
    "    for player, hand in player_hands.items():\n",
    "        # Start with the player's hole cards\n",
    "        combined_hands[player] = hand.copy()\n",
    "        # Add the table cards\n",
    "        for card in table_cards.values():\n",
    "            combined_hands[player].append(card)\n",
    "            \n",
    "    return combined_hands\n",
    "\n",
    "def check_one_pair(combined_hands, hand_rankings_df):\n",
    "    # Get pair rank value from hand_ranking_df\n",
    "    pair_rank = hand_rankings_df.loc[hand_rankings_df['Hand'] == 'One Pair', 'Rank'].values[0]\n",
    "    \n",
    "    # Check each player's combined hand\n",
    "    for player, cards in combined_hands.items():\n",
    "        # Get just the ranks\n",
    "        ranks = [card[1] for card in cards]\n",
    "        \n",
    "        # Check for pairs\n",
    "        has_pair = False\n",
    "        for rank in set(ranks):\n",
    "            if ranks.count(rank) == 2:\n",
    "                # Found a pair, update combined_hands value\n",
    "                combined_hands[player] = pair_rank\n",
    "                has_pair = True\n",
    "                break\n",
    "        \n",
    "        # If no pair found, set value to 0        \n",
    "        if not has_pair:\n",
    "            combined_hands[player] = 0\n",
    "                \n",
    "    return combined_hands\n"
   ]
  },
  {
   "cell_type": "code",
   "execution_count": 6,
   "metadata": {},
   "outputs": [
    {
     "ename": "TypeError",
     "evalue": "check_one_pair() missing 1 required positional argument: 'hand_ranking_df'",
     "output_type": "error",
     "traceback": [
      "\u001b[1;31m---------------------------------------------------------------------------\u001b[0m",
      "\u001b[1;31mTypeError\u001b[0m                                 Traceback (most recent call last)",
      "Cell \u001b[1;32mIn[6], line 11\u001b[0m\n\u001b[0;32m      9\u001b[0m table_cards, remaining_deck \u001b[38;5;241m=\u001b[39m deal_river(remaining_deck, table_cards)\n\u001b[0;32m     10\u001b[0m combined_hands \u001b[38;5;241m=\u001b[39m assemble_hand(player_hands, table_cards)\n\u001b[1;32m---> 11\u001b[0m one_pair_results \u001b[38;5;241m=\u001b[39m \u001b[43mcheck_one_pair\u001b[49m\u001b[43m(\u001b[49m\u001b[43mcombined_hands\u001b[49m\u001b[43m)\u001b[49m\n",
      "\u001b[1;31mTypeError\u001b[0m: check_one_pair() missing 1 required positional argument: 'hand_ranking_df'"
     ]
    }
   ],
   "source": [
    "# Shuffle the deck\n",
    "shuffled_df = deck_shuffler(deck_df)\n",
    "player_hands, remaining_deck = initial_deal(shuffled_df, player_hands)\n",
    "remaining_deck = burn_card(remaining_deck)\n",
    "table_cards, remaining_deck = deal_flop(remaining_deck, table_cards)\n",
    "remaining_deck = burn_card(remaining_deck)\n",
    "table_cards, remaining_deck = deal_turn(remaining_deck, table_cards)\n",
    "remaining_deck = burn_card(remaining_deck)\n",
    "table_cards, remaining_deck = deal_river(remaining_deck, table_cards)\n",
    "combined_hands = assemble_hand(player_hands, table_cards)\n",
    "one_pair_results = check_one_pair(combined_hands)"
   ]
  },
  {
   "cell_type": "code",
   "execution_count": null,
   "metadata": {},
   "outputs": [],
   "source": [
    "one_pair_results"
   ]
  },
  {
   "cell_type": "code",
   "execution_count": null,
   "metadata": {},
   "outputs": [],
   "source": [
    "combined_hands"
   ]
  },
  {
   "cell_type": "code",
   "execution_count": null,
   "metadata": {},
   "outputs": [],
   "source": [
    "player_hands"
   ]
  },
  {
   "cell_type": "code",
   "execution_count": null,
   "metadata": {},
   "outputs": [],
   "source": [
    "table_cards"
   ]
  },
  {
   "cell_type": "code",
   "execution_count": null,
   "metadata": {},
   "outputs": [],
   "source": [
    "remaining_deck"
   ]
  },
  {
   "cell_type": "code",
   "execution_count": null,
   "metadata": {},
   "outputs": [],
   "source": [
    "player_hands"
   ]
  },
  {
   "cell_type": "code",
   "execution_count": null,
   "metadata": {},
   "outputs": [],
   "source": [
    "remaining_deck"
   ]
  },
  {
   "cell_type": "code",
   "execution_count": null,
   "metadata": {},
   "outputs": [],
   "source": [
    "player_hands"
   ]
  },
  {
   "cell_type": "code",
   "execution_count": null,
   "metadata": {},
   "outputs": [],
   "source": [
    "shuffled_df"
   ]
  }
 ],
 "metadata": {
  "kernelspec": {
   "display_name": "cpu_base",
   "language": "python",
   "name": "python3"
  },
  "language_info": {
   "codemirror_mode": {
    "name": "ipython",
    "version": 3
   },
   "file_extension": ".py",
   "mimetype": "text/x-python",
   "name": "python",
   "nbconvert_exporter": "python",
   "pygments_lexer": "ipython3",
   "version": "3.9.13"
  }
 },
 "nbformat": 4,
 "nbformat_minor": 2
}
