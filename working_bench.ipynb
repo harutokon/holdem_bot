{
 "cells": [
  {
   "cell_type": "code",
   "execution_count": 1,
   "metadata": {},
   "outputs": [],
   "source": [
    "import pandas as pd\n",
    "import numpy as np"
   ]
  },
  {
   "cell_type": "code",
   "execution_count": 2,
   "metadata": {},
   "outputs": [],
   "source": [
    "num_players = 5\n",
    "deck_df = pd.read_csv('deck.csv')\n",
    "hand_rankings_df = pd.read_csv('poker_hand_rankings.csv')\n",
    "card_rankings_df = pd.read_csv('card_rankings.csv')\n",
    "# Initialize empty dictionary to store player hands\n",
    "player_hands = {i: [] for i in range(num_players)}\n",
    "# Initialize empty dictionary to store table cards (5 slots)\n",
    "table_cards = {i: [] for i in range(5)}\n",
    "\n"
   ]
  },
  {
   "cell_type": "code",
   "execution_count": null,
   "metadata": {},
   "outputs": [],
   "source": [
    "table_cards"
   ]
  },
  {
   "cell_type": "code",
   "execution_count": null,
   "metadata": {},
   "outputs": [],
   "source": [
    "player_hands"
   ]
  },
  {
   "cell_type": "code",
   "execution_count": 3,
   "metadata": {},
   "outputs": [],
   "source": [
    "def deck_shuffler(deck_df):\n",
    "    shuffled_df = deck_df.copy()\n",
    "    shuffled_df = shuffled_df.iloc[np.random.permutation(len(shuffled_df))]\n",
    "    return shuffled_df\n",
    "\n",
    "def initial_deal(shuffled_df, player_hands):\n",
    "    # Deal 2 cards to each player\n",
    "    for card_num in range(2):  # Deal 2 rounds\n",
    "        for player in player_hands.keys():  # Deal to each player\n",
    "            # Get the next card (first row of shuffled deck)\n",
    "            card = shuffled_df.iloc[player + (card_num * len(player_hands))]\n",
    "            # Add card to player's hand as [suit, rank] list\n",
    "            player_hands[player].append([card['suit'], card['rank']])\n",
    "    \n",
    "    # Remove dealt cards from the deck (2 cards * number of players)\n",
    "    remaining_deck = shuffled_df.iloc[2 * len(player_hands):].reset_index(drop=True)\n",
    "    \n",
    "    return player_hands, remaining_deck\n",
    "\n",
    "\n",
    "def burn_card(remaining_deck):\n",
    "    # Burn one card from the remaining deck\n",
    "    burned_card = remaining_deck.iloc[0]\n",
    "    remaining_deck = remaining_deck.iloc[1:].reset_index(drop=True)\n",
    "    return remaining_deck\n",
    "\n",
    "def deal_flop(remaining_deck, table_cards):\n",
    "    # Deal 3 cards to the table\n",
    "    for i in range(3):\n",
    "        card = remaining_deck.iloc[0]\n",
    "        # Add card to table as [suit, rank] list, similar to player hands\n",
    "        table_cards[i] = [card['suit'], card['rank']]\n",
    "        remaining_deck = remaining_deck.iloc[1:].reset_index(drop=True)\n",
    "    return table_cards, remaining_deck\n",
    "\n",
    "def deal_turn(remaining_deck, table_cards):\n",
    "    # Deal 1 card to the table in position 3\n",
    "    card = remaining_deck.iloc[0]\n",
    "    # Add card to table as [suit, rank] list\n",
    "    table_cards[3] = [card['suit'], card['rank']]\n",
    "    remaining_deck = remaining_deck.iloc[1:].reset_index(drop=True)\n",
    "    return table_cards, remaining_deck\n",
    "\n",
    "def deal_river(remaining_deck, table_cards):\n",
    "    # Deal 1 card to the table in position 4\n",
    "    card = remaining_deck.iloc[0]\n",
    "    # Add card to table as [suit, rank] list\n",
    "    table_cards[4] = [card['suit'], card['rank']]\n",
    "    remaining_deck = remaining_deck.iloc[1:].reset_index(drop=True)\n",
    "    return table_cards, remaining_deck\n",
    "\n",
    "def hand_ranker(player_hands, table_cards):\n",
    "    # For each player\n",
    "    for player in player_hands.keys():\n",
    "        # Combine player's hole cards with table cards\n",
    "        all_cards = player_hands[player] + [card for card in table_cards.values() if card != []]\n",
    "        \n",
    "        # Create lists of just the ranks and suits\n",
    "        ranks = [card[1] for card in all_cards]\n",
    "        suits = [card[0] for card in all_cards]\n",
    "        \n",
    "        # Check for pairs by counting rank occurrences\n",
    "        rank_counts = {}\n",
    "        for rank in ranks:\n",
    "            if rank in rank_counts:\n",
    "                rank_counts[rank] += 1\n",
    "            else:\n",
    "                rank_counts[rank] = 1\n",
    "        \n",
    "        # Find any pairs (rank that appears exactly twice)\n",
    "        pairs = [rank for rank, count in rank_counts.items() if count == 2]\n",
    "        \n",
    "        # Store results in player_hands dictionary and print for this player\n",
    "        if pairs:\n",
    "            player_hands[player] = {'cards': player_hands[player], 'hand_type': f\"Pair of {pairs[0]}s\"}\n",
    "            print(f\"Player {player} has a pair of {pairs[0]}s\")\n",
    "        else:\n",
    "            player_hands[player] = {'cards': player_hands[player], 'hand_type': \"No pair\"}\n",
    "            print(f\"Player {player} has no pair\")\n",
    "            \n",
    "    return player_hands\n",
    "\n"
   ]
  },
  {
   "cell_type": "code",
   "execution_count": 4,
   "metadata": {},
   "outputs": [
    {
     "name": "stdout",
     "output_type": "stream",
     "text": [
      "Player 0 has a pair of 5s\n",
      "Player 1 has no pair\n",
      "Player 2 has no pair\n",
      "Player 3 has a pair of 11s\n",
      "Player 4 has a pair of 7s\n"
     ]
    }
   ],
   "source": [
    "# Shuffle the deck\n",
    "shuffled_df = deck_shuffler(deck_df)\n",
    "player_hands, remaining_deck = initial_deal(shuffled_df, player_hands)\n",
    "remaining_deck = burn_card(remaining_deck)\n",
    "table_cards, remaining_deck = deal_flop(remaining_deck, table_cards)\n",
    "remaining_deck = burn_card(remaining_deck)\n",
    "table_cards, remaining_deck = deal_turn(remaining_deck, table_cards)\n",
    "remaining_deck = burn_card(remaining_deck)\n",
    "table_cards, remaining_deck = deal_river(remaining_deck, table_cards)\n",
    "hand_rankings = hand_ranker(player_hands, table_cards)"
   ]
  },
  {
   "cell_type": "code",
   "execution_count": null,
   "metadata": {},
   "outputs": [],
   "source": [
    "player_hands"
   ]
  },
  {
   "cell_type": "code",
   "execution_count": null,
   "metadata": {},
   "outputs": [],
   "source": [
    "table_cards"
   ]
  },
  {
   "cell_type": "code",
   "execution_count": null,
   "metadata": {},
   "outputs": [],
   "source": [
    "remaining_deck"
   ]
  },
  {
   "cell_type": "code",
   "execution_count": null,
   "metadata": {},
   "outputs": [],
   "source": [
    "player_hands"
   ]
  },
  {
   "cell_type": "code",
   "execution_count": null,
   "metadata": {},
   "outputs": [],
   "source": [
    "remaining_deck"
   ]
  },
  {
   "cell_type": "code",
   "execution_count": null,
   "metadata": {},
   "outputs": [],
   "source": [
    "player_hands"
   ]
  },
  {
   "cell_type": "code",
   "execution_count": null,
   "metadata": {},
   "outputs": [],
   "source": [
    "shuffled_df"
   ]
  }
 ],
 "metadata": {
  "kernelspec": {
   "display_name": "cpu_base",
   "language": "python",
   "name": "python3"
  },
  "language_info": {
   "codemirror_mode": {
    "name": "ipython",
    "version": 3
   },
   "file_extension": ".py",
   "mimetype": "text/x-python",
   "name": "python",
   "nbconvert_exporter": "python",
   "pygments_lexer": "ipython3",
   "version": "3.9.13"
  }
 },
 "nbformat": 4,
 "nbformat_minor": 2
}
