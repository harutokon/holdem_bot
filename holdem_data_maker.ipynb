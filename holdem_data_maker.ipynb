{
 "cells": [
  {
   "cell_type": "code",
   "execution_count": 2,
   "metadata": {},
   "outputs": [],
   "source": [
    "import pandas as pd\n",
    "import numpy as np"
   ]
  },
  {
   "cell_type": "code",
   "execution_count": null,
   "metadata": {},
   "outputs": [],
   "source": [
    "# Create lists of suits and ranks\n",
    "suits = ['1', '2', '3', '4']\n",
    "ranks = ['2', '3', '4', '5', '6', '7', '8', '9', '10', '11', '12', '13', '14']\n",
    "\n",
    "# Create empty lists to store card data\n",
    "all_suits = []\n",
    "all_ranks = []\n",
    "\n",
    "# Generate all combinations of suits and ranks\n",
    "for suit in suits:\n",
    "    for rank in ranks:\n",
    "        all_suits.append(suit)\n",
    "        all_ranks.append(rank)\n",
    "\n",
    "# Create a DataFrame with the card data\n",
    "cards_df = pd.DataFrame({\n",
    "    'suit': all_suits,\n",
    "    'rank': all_ranks\n",
    "})\n",
    "\n",
    "\n",
    "\n",
    "# Save the DataFrame to a CSV file\n",
    "cards_df.to_csv('deck.csv', index=False)\n"
   ]
  },
  {
   "cell_type": "code",
   "execution_count": 7,
   "metadata": {},
   "outputs": [],
   "source": [
    "# Define poker hand rankings from lowest to highest\n",
    "poker_hands = {\n",
    "    1: 'High Card',\n",
    "    2: 'One Pair', \n",
    "    3: 'Two Pair',\n",
    "    4: 'Three of a Kind',\n",
    "    5: 'Straight',\n",
    "    6: 'Flush',\n",
    "    7: 'Full House',\n",
    "    8: 'Four of a Kind',\n",
    "    9: 'Straight Flush',\n",
    "    10: 'Royal Flush'\n",
    "}\n",
    "\n",
    "# Create a DataFrame with the rankings\n",
    "hand_rankings_df = pd.DataFrame(list(poker_hands.items()), columns=['Rank', 'Hand'])\n",
    "\n",
    "# Save rankings to CSV\n",
    "hand_rankings_df.to_csv('poker_hand_rankings.csv', index=False)\n"
   ]
  },
  {
   "cell_type": "code",
   "execution_count": 8,
   "metadata": {},
   "outputs": [],
   "source": [
    "# Define card rankings from highest to lowest\n",
    "card_rankings = {\n",
    "    1: '14',\n",
    "    2: '13',\n",
    "    3: '12', \n",
    "    4: '11',\n",
    "    5: '10',\n",
    "    6: '9',\n",
    "    7: '8',\n",
    "    8: '7',\n",
    "    9: '6',\n",
    "    10: '5',\n",
    "    11: '4',\n",
    "    12: '3',\n",
    "    13: '2'\n",
    "}\n",
    "\n",
    "# Create a DataFrame with the card rankings\n",
    "card_rankings_df = pd.DataFrame(list(card_rankings.items()), columns=['Rank', 'Card'])\n",
    "\n",
    "# Save rankings to CSV\n",
    "card_rankings_df.to_csv('card_rankings.csv', index=False)\n",
    "\n"
   ]
  }
 ],
 "metadata": {
  "kernelspec": {
   "display_name": "cpu_base",
   "language": "python",
   "name": "python3"
  },
  "language_info": {
   "codemirror_mode": {
    "name": "ipython",
    "version": 3
   },
   "file_extension": ".py",
   "mimetype": "text/x-python",
   "name": "python",
   "nbconvert_exporter": "python",
   "pygments_lexer": "ipython3",
   "version": "3.9.13"
  }
 },
 "nbformat": 4,
 "nbformat_minor": 2
}
