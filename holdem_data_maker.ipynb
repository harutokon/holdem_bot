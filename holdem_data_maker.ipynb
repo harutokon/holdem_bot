{
 "cells": [
  {
   "cell_type": "code",
   "execution_count": 2,
   "metadata": {},
   "outputs": [],
   "source": [
    "import pandas as pd\n",
    "import numpy as np"
   ]
  },
  {
   "cell_type": "code",
   "execution_count": 5,
   "metadata": {},
   "outputs": [
    {
     "name": "stdout",
     "output_type": "stream",
     "text": [
      "     suit rank\n",
      "0  hearts    2\n",
      "1  hearts    3\n",
      "2  hearts    4\n",
      "3  hearts    5\n",
      "4  hearts    6\n"
     ]
    }
   ],
   "source": [
    "# Create lists of suits and ranks\n",
    "suits = ['hearts', 'diamonds', 'clubs', 'spades']\n",
    "ranks = ['2', '3', '4', '5', '6', '7', '8', '9', '10', 'jack', 'queen', 'king', 'ace']\n",
    "\n",
    "# Create empty lists to store card data\n",
    "all_suits = []\n",
    "all_ranks = []\n",
    "\n",
    "# Generate all combinations of suits and ranks\n",
    "for suit in suits:\n",
    "    for rank in ranks:\n",
    "        all_suits.append(suit)\n",
    "        all_ranks.append(rank)\n",
    "\n",
    "# Create a DataFrame with the card data\n",
    "cards_df = pd.DataFrame({\n",
    "    'suit': all_suits,\n",
    "    'rank': all_ranks\n",
    "})\n",
    "\n",
    "\n",
    "\n",
    "# Save the DataFrame to a CSV file\n",
    "cards_df.to_csv('deck.csv', index=False)\n"
   ]
  }
 ],
 "metadata": {
  "kernelspec": {
   "display_name": "cpu_base",
   "language": "python",
   "name": "python3"
  },
  "language_info": {
   "codemirror_mode": {
    "name": "ipython",
    "version": 3
   },
   "file_extension": ".py",
   "mimetype": "text/x-python",
   "name": "python",
   "nbconvert_exporter": "python",
   "pygments_lexer": "ipython3",
   "version": "3.9.13"
  }
 },
 "nbformat": 4,
 "nbformat_minor": 2
}
