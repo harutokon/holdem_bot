{
 "cells": [
  {
   "cell_type": "code",
   "execution_count": 1,
   "metadata": {},
   "outputs": [],
   "source": [
    "import pandas as pd\n",
    "import numpy as np"
   ]
  },
  {
   "cell_type": "code",
   "execution_count": 2,
   "metadata": {},
   "outputs": [],
   "source": [
    "num_players = 5\n",
    "deck_df = pd.read_csv('deck.csv')\n",
    "# Initialize empty dictionary to store player hands\n",
    "player_hands = {i: [] for i in range(num_players)}\n"
   ]
  },
  {
   "cell_type": "code",
   "execution_count": null,
   "metadata": {},
   "outputs": [],
   "source": [
    "player_hands"
   ]
  },
  {
   "cell_type": "code",
   "execution_count": 3,
   "metadata": {},
   "outputs": [],
   "source": [
    "def deck_shuffler(deck_df):\n",
    "    shuffled_df = deck_df.copy()\n",
    "    shuffled_df = shuffled_df.iloc[np.random.permutation(len(shuffled_df))]\n",
    "    return shuffled_df\n",
    "\n",
    "def initial_deal(shuffled_df, player_hands):\n",
    "    # Deal 2 cards to each player\n",
    "    for card_num in range(2):  # Deal 2 rounds\n",
    "        for player in player_hands.keys():  # Deal to each player\n",
    "            # Get the next card (first row of shuffled deck)\n",
    "            card = shuffled_df.iloc[player + (card_num * len(player_hands))]\n",
    "            # Add card to player's hand as [suit, rank] list\n",
    "            player_hands[player].append([card['suit'], card['rank']])\n",
    "    \n",
    "    # Remove dealt cards from the deck (2 cards * number of players)\n",
    "    remaining_deck = shuffled_df.iloc[2 * len(player_hands):]\n",
    "    \n",
    "    return player_hands, remaining_deck\n"
   ]
  },
  {
   "cell_type": "code",
   "execution_count": 4,
   "metadata": {},
   "outputs": [],
   "source": [
    "# Shuffle the deck\n",
    "shuffled_df = deck_shuffler(deck_df)\n"
   ]
  },
  {
   "cell_type": "code",
   "execution_count": 5,
   "metadata": {},
   "outputs": [],
   "source": [
    "player_hands, remaining_deck = initial_deal(shuffled_df, player_hands)\n"
   ]
  },
  {
   "cell_type": "code",
   "execution_count": null,
   "metadata": {},
   "outputs": [],
   "source": []
  },
  {
   "cell_type": "code",
   "execution_count": null,
   "metadata": {},
   "outputs": [],
   "source": [
    "remaining_deck"
   ]
  },
  {
   "cell_type": "code",
   "execution_count": null,
   "metadata": {},
   "outputs": [],
   "source": [
    "player_hands"
   ]
  },
  {
   "cell_type": "code",
   "execution_count": null,
   "metadata": {},
   "outputs": [],
   "source": [
    "shuffled_df"
   ]
  }
 ],
 "metadata": {
  "kernelspec": {
   "display_name": "cpu_base",
   "language": "python",
   "name": "python3"
  },
  "language_info": {
   "codemirror_mode": {
    "name": "ipython",
    "version": 3
   },
   "file_extension": ".py",
   "mimetype": "text/x-python",
   "name": "python",
   "nbconvert_exporter": "python",
   "pygments_lexer": "ipython3",
   "version": "3.9.13"
  }
 },
 "nbformat": 4,
 "nbformat_minor": 2
}
